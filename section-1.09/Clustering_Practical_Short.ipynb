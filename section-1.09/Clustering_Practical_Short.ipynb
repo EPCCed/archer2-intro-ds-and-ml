{
 "cells": [
  {
   "cell_type": "markdown",
   "id": "5dda1a54-6fa1-4787-8976-b9e70954b4c6",
   "metadata": {},
   "source": [
    "### Classification"
   ]
  },
  {
   "cell_type": "code",
   "execution_count": null,
   "id": "40ba7426-b3bc-48a2-b04a-49c7a1463da8",
   "metadata": {},
   "outputs": [],
   "source": [
    "# IPython notebook configuration\n",
    "# Jupyter setting to run all commands in a single cell with outputs:\n",
    "# Please comment out if irrelevant!\n",
    "from IPython.core.interactiveshell import InteractiveShell\n",
    "InteractiveShell.ast_node_interactivity = 'all'"
   ]
  },
  {
   "cell_type": "code",
   "execution_count": null,
   "id": "9296f085-83aa-4b1a-8b11-6c6ceb666eb3",
   "metadata": {},
   "outputs": [],
   "source": [
    "# installing Python modules"
   ]
  },
  {
   "cell_type": "code",
   "execution_count": null,
   "id": "ddd27e17-76b0-4bb4-8cd0-c1862fc45c68",
   "metadata": {},
   "outputs": [],
   "source": [
    "# importing libraries and/ or modules\n",
    "\n",
    "import sklearn as sk\n",
    "import sklearn.datasets as skd\n",
    "import sklearn.cluster as skc\n",
    "import matplotlib.pyplot as plt"
   ]
  },
  {
   "cell_type": "markdown",
   "id": "767c0e62-aaa9-469d-9d0b-b2969266e566",
   "metadata": {},
   "source": [
    "Firstly we will construct some random data that is grouped into clusters"
   ]
  },
  {
   "cell_type": "code",
   "execution_count": null,
   "id": "9aa2565c-fd02-424e-9cc7-92efa86c6b01",
   "metadata": {},
   "outputs": [],
   "source": [
    "X, y = skd.make_blobs()"
   ]
  },
  {
   "cell_type": "markdown",
   "id": "fef10802-06b9-4e30-a7cb-e5e44ca4fe2a",
   "metadata": {},
   "source": [
    "Now visualise the data we have created"
   ]
  },
  {
   "cell_type": "code",
   "execution_count": null,
   "id": "960304d2-5bf2-4904-9b91-4cccc0ff9663",
   "metadata": {},
   "outputs": [],
   "source": [
    "plt.scatter(X[:,0], X[:,1])\n",
    "plt.show()"
   ]
  },
  {
   "cell_type": "markdown",
   "id": "d56c3033-6236-4be1-a046-08ac446cb977",
   "metadata": {},
   "source": [
    "Next we will use the scikit-learn clustering functionality to run a KMeans clustering approach on our data. We have defined that we want 3 clusters and n_init=10 means that we want to run 10 different clustering attempts with different initial cluster starting points (the random seeds used to initialise where the clusters start out). This is a way to explore the variability of the clustering to the initial conditions of the KMeans approach."
   ]
  },
  {
   "cell_type": "code",
   "execution_count": null,
   "id": "81a24162-02ac-4ffb-b5d0-3147d2cd5d2e",
   "metadata": {},
   "outputs": [],
   "source": [
    "model = skc.KMeans(n_clusters=3, n_init=10)\n",
    "# This now runs the model and then calculates how well it is predicting clusters. The default score approach is accuracy_score()\n",
    "model.fit(X).score(X)"
   ]
  },
  {
   "cell_type": "code",
   "execution_count": null,
   "id": "49d6e9b0-8869-4c8b-8d6b-6f4a749a2a81",
   "metadata": {},
   "outputs": [],
   "source": [
    "plt.scatter(X[:,0],X[:,1],c=model.labels_)"
   ]
  },
  {
   "cell_type": "code",
   "execution_count": null,
   "id": "e4d79240-a5d1-4a4a-a9d8-eb0cfd07455d",
   "metadata": {},
   "outputs": [],
   "source": [
    "plt.scatter(X[:,0],X[:,1],c=y)"
   ]
  },
  {
   "cell_type": "markdown",
   "id": "aeb760e2-b9a4-4a37-99fb-fafbfeee50b2",
   "metadata": {},
   "source": [
    "<b>TASK</b> <br>\n",
    "Experiment with more artificial datasets using `make_blobs`. `make_blobs` can take an argument centres (e.g. `skd.make_blobs(centers=3)`). It also takes an argument `cluster_std`."
   ]
  },
  {
   "cell_type": "markdown",
   "id": "c4a869e7-138d-421b-9cbf-fbf13e8ff88f",
   "metadata": {},
   "source": [
    "Also, try out `skd.make_moons` and `skd.make_circles`."
   ]
  },
  {
   "cell_type": "code",
   "execution_count": null,
   "id": "e3c6711b-be8f-48b7-8040-263f5015f654",
   "metadata": {},
   "outputs": [],
   "source": [
    "db = skc.DBSCAN(eps=0.1190106)\n",
    "db.fit(X)\n",
    "plt.scatter(X[:,0], X[:,1],c=db.labels_)"
   ]
  },
  {
   "cell_type": "code",
   "execution_count": null,
   "id": "cb210bde-a0dd-453f-af81-f4008c44a118",
   "metadata": {},
   "outputs": [],
   "source": []
  }
 ],
 "metadata": {
  "kernelspec": {
   "display_name": "Python 3 (ipykernel)",
   "language": "python",
   "name": "python3"
  },
  "language_info": {
   "codemirror_mode": {
    "name": "ipython",
    "version": 3
   },
   "file_extension": ".py",
   "mimetype": "text/x-python",
   "name": "python",
   "nbconvert_exporter": "python",
   "pygments_lexer": "ipython3",
   "version": "3.9.13"
  }
 },
 "nbformat": 4,
 "nbformat_minor": 5
}
